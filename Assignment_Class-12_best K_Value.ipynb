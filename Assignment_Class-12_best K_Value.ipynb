{
 "cells": [
  {
   "cell_type": "code",
   "execution_count": 1,
   "id": "54478a0f",
   "metadata": {},
   "outputs": [],
   "source": [
    "import pandas as pd\n",
    "import numpy as np\n",
    "import matplotlib.pyplot as plt"
   ]
  },
  {
   "cell_type": "markdown",
   "id": "b4b44f14",
   "metadata": {},
   "source": [
    "# Import data set"
   ]
  },
  {
   "cell_type": "code",
   "execution_count": 2,
   "id": "e54e6694",
   "metadata": {},
   "outputs": [],
   "source": [
    "df = pd.read_csv('weight-height.csv')"
   ]
  },
  {
   "cell_type": "markdown",
   "id": "d6987bbd",
   "metadata": {},
   "source": [
    "# Preprocessing Data "
   ]
  },
  {
   "cell_type": "code",
   "execution_count": 3,
   "id": "2a8e76e6",
   "metadata": {},
   "outputs": [
    {
     "data": {
      "text/html": [
       "<div>\n",
       "<style scoped>\n",
       "    .dataframe tbody tr th:only-of-type {\n",
       "        vertical-align: middle;\n",
       "    }\n",
       "\n",
       "    .dataframe tbody tr th {\n",
       "        vertical-align: top;\n",
       "    }\n",
       "\n",
       "    .dataframe thead th {\n",
       "        text-align: right;\n",
       "    }\n",
       "</style>\n",
       "<table border=\"1\" class=\"dataframe\">\n",
       "  <thead>\n",
       "    <tr style=\"text-align: right;\">\n",
       "      <th></th>\n",
       "      <th>Gender</th>\n",
       "      <th>Height</th>\n",
       "      <th>Weight</th>\n",
       "    </tr>\n",
       "  </thead>\n",
       "  <tbody>\n",
       "    <tr>\n",
       "      <th>0</th>\n",
       "      <td>Male</td>\n",
       "      <td>73.847017</td>\n",
       "      <td>241.893563</td>\n",
       "    </tr>\n",
       "    <tr>\n",
       "      <th>1</th>\n",
       "      <td>Male</td>\n",
       "      <td>68.781904</td>\n",
       "      <td>162.310473</td>\n",
       "    </tr>\n",
       "    <tr>\n",
       "      <th>2</th>\n",
       "      <td>Male</td>\n",
       "      <td>74.110105</td>\n",
       "      <td>212.740856</td>\n",
       "    </tr>\n",
       "    <tr>\n",
       "      <th>3</th>\n",
       "      <td>Male</td>\n",
       "      <td>71.730978</td>\n",
       "      <td>220.042470</td>\n",
       "    </tr>\n",
       "    <tr>\n",
       "      <th>4</th>\n",
       "      <td>Male</td>\n",
       "      <td>69.881796</td>\n",
       "      <td>206.349801</td>\n",
       "    </tr>\n",
       "  </tbody>\n",
       "</table>\n",
       "</div>"
      ],
      "text/plain": [
       "  Gender     Height      Weight\n",
       "0   Male  73.847017  241.893563\n",
       "1   Male  68.781904  162.310473\n",
       "2   Male  74.110105  212.740856\n",
       "3   Male  71.730978  220.042470\n",
       "4   Male  69.881796  206.349801"
      ]
     },
     "execution_count": 3,
     "metadata": {},
     "output_type": "execute_result"
    }
   ],
   "source": [
    "df.head()"
   ]
  },
  {
   "cell_type": "code",
   "execution_count": 4,
   "id": "93060ebe",
   "metadata": {},
   "outputs": [],
   "source": [
    "from sklearn.preprocessing import LabelEncoder"
   ]
  },
  {
   "cell_type": "code",
   "execution_count": 5,
   "id": "7b4f49c1",
   "metadata": {},
   "outputs": [],
   "source": [
    "label = LabelEncoder()"
   ]
  },
  {
   "cell_type": "code",
   "execution_count": 6,
   "id": "66385490",
   "metadata": {},
   "outputs": [],
   "source": [
    "df.Gender = label.fit_transform(df['Gender'])"
   ]
  },
  {
   "cell_type": "code",
   "execution_count": 7,
   "id": "cac26e2b",
   "metadata": {},
   "outputs": [
    {
     "data": {
      "text/html": [
       "<div>\n",
       "<style scoped>\n",
       "    .dataframe tbody tr th:only-of-type {\n",
       "        vertical-align: middle;\n",
       "    }\n",
       "\n",
       "    .dataframe tbody tr th {\n",
       "        vertical-align: top;\n",
       "    }\n",
       "\n",
       "    .dataframe thead th {\n",
       "        text-align: right;\n",
       "    }\n",
       "</style>\n",
       "<table border=\"1\" class=\"dataframe\">\n",
       "  <thead>\n",
       "    <tr style=\"text-align: right;\">\n",
       "      <th></th>\n",
       "      <th>Gender</th>\n",
       "      <th>Height</th>\n",
       "      <th>Weight</th>\n",
       "    </tr>\n",
       "  </thead>\n",
       "  <tbody>\n",
       "    <tr>\n",
       "      <th>0</th>\n",
       "      <td>1</td>\n",
       "      <td>73.847017</td>\n",
       "      <td>241.893563</td>\n",
       "    </tr>\n",
       "    <tr>\n",
       "      <th>1</th>\n",
       "      <td>1</td>\n",
       "      <td>68.781904</td>\n",
       "      <td>162.310473</td>\n",
       "    </tr>\n",
       "    <tr>\n",
       "      <th>2</th>\n",
       "      <td>1</td>\n",
       "      <td>74.110105</td>\n",
       "      <td>212.740856</td>\n",
       "    </tr>\n",
       "    <tr>\n",
       "      <th>3</th>\n",
       "      <td>1</td>\n",
       "      <td>71.730978</td>\n",
       "      <td>220.042470</td>\n",
       "    </tr>\n",
       "    <tr>\n",
       "      <th>4</th>\n",
       "      <td>1</td>\n",
       "      <td>69.881796</td>\n",
       "      <td>206.349801</td>\n",
       "    </tr>\n",
       "  </tbody>\n",
       "</table>\n",
       "</div>"
      ],
      "text/plain": [
       "   Gender     Height      Weight\n",
       "0       1  73.847017  241.893563\n",
       "1       1  68.781904  162.310473\n",
       "2       1  74.110105  212.740856\n",
       "3       1  71.730978  220.042470\n",
       "4       1  69.881796  206.349801"
      ]
     },
     "execution_count": 7,
     "metadata": {},
     "output_type": "execute_result"
    }
   ],
   "source": [
    "df.head()"
   ]
  },
  {
   "cell_type": "code",
   "execution_count": 8,
   "id": "f607a53a",
   "metadata": {},
   "outputs": [
    {
     "data": {
      "text/plain": [
       "1    5000\n",
       "0    3555\n",
       "Name: Gender, dtype: int64"
      ]
     },
     "execution_count": 8,
     "metadata": {},
     "output_type": "execute_result"
    }
   ],
   "source": [
    "df.Gender.value_counts()"
   ]
  },
  {
   "cell_type": "markdown",
   "id": "a7a6d555",
   "metadata": {},
   "source": [
    "# Seperate x(Gender, Height) and y (y=Weight)"
   ]
  },
  {
   "cell_type": "markdown",
   "id": "cb767159",
   "metadata": {},
   "source": [
    "# x = Gender, y = Weight"
   ]
  },
  {
   "cell_type": "code",
   "execution_count": 9,
   "id": "0fcb351d",
   "metadata": {},
   "outputs": [],
   "source": [
    "x = df[['Gender']]\n",
    "y = df[['Weight']]"
   ]
  },
  {
   "cell_type": "code",
   "execution_count": 10,
   "id": "f7c3decb",
   "metadata": {},
   "outputs": [],
   "source": [
    "from sklearn.model_selection import train_test_split"
   ]
  },
  {
   "cell_type": "code",
   "execution_count": 11,
   "id": "4b334707",
   "metadata": {},
   "outputs": [],
   "source": [
    "xtrain,xtest,ytrain,ytest = train_test_split(x,y,test_size=.30,random_state=42)"
   ]
  },
  {
   "cell_type": "code",
   "execution_count": 12,
   "id": "6fc73dbd",
   "metadata": {},
   "outputs": [
    {
     "data": {
      "text/html": [
       "<div>\n",
       "<style scoped>\n",
       "    .dataframe tbody tr th:only-of-type {\n",
       "        vertical-align: middle;\n",
       "    }\n",
       "\n",
       "    .dataframe tbody tr th {\n",
       "        vertical-align: top;\n",
       "    }\n",
       "\n",
       "    .dataframe thead th {\n",
       "        text-align: right;\n",
       "    }\n",
       "</style>\n",
       "<table border=\"1\" class=\"dataframe\">\n",
       "  <thead>\n",
       "    <tr style=\"text-align: right;\">\n",
       "      <th></th>\n",
       "      <th>Gender</th>\n",
       "    </tr>\n",
       "  </thead>\n",
       "  <tbody>\n",
       "    <tr>\n",
       "      <th>553</th>\n",
       "      <td>1</td>\n",
       "    </tr>\n",
       "    <tr>\n",
       "      <th>1397</th>\n",
       "      <td>1</td>\n",
       "    </tr>\n",
       "    <tr>\n",
       "      <th>7934</th>\n",
       "      <td>0</td>\n",
       "    </tr>\n",
       "    <tr>\n",
       "      <th>8367</th>\n",
       "      <td>0</td>\n",
       "    </tr>\n",
       "    <tr>\n",
       "      <th>3320</th>\n",
       "      <td>1</td>\n",
       "    </tr>\n",
       "  </tbody>\n",
       "</table>\n",
       "</div>"
      ],
      "text/plain": [
       "      Gender\n",
       "553        1\n",
       "1397       1\n",
       "7934       0\n",
       "8367       0\n",
       "3320       1"
      ]
     },
     "execution_count": 12,
     "metadata": {},
     "output_type": "execute_result"
    }
   ],
   "source": [
    "xtrain.head()"
   ]
  },
  {
   "cell_type": "markdown",
   "id": "bda0972b",
   "metadata": {},
   "source": [
    "# Apply Linear Regression"
   ]
  },
  {
   "cell_type": "code",
   "execution_count": 13,
   "id": "342ae1a7",
   "metadata": {},
   "outputs": [],
   "source": [
    "from sklearn.linear_model import LinearRegression"
   ]
  },
  {
   "cell_type": "code",
   "execution_count": 14,
   "id": "4064fc27",
   "metadata": {},
   "outputs": [],
   "source": [
    "l_reg = LinearRegression()"
   ]
  },
  {
   "cell_type": "code",
   "execution_count": 15,
   "id": "9fc6a54d",
   "metadata": {},
   "outputs": [
    {
     "data": {
      "text/plain": [
       "LinearRegression()"
      ]
     },
     "execution_count": 15,
     "metadata": {},
     "output_type": "execute_result"
    }
   ],
   "source": [
    "l_reg.fit(xtrain,ytrain)"
   ]
  },
  {
   "cell_type": "code",
   "execution_count": 16,
   "id": "1c30050a",
   "metadata": {},
   "outputs": [
    {
     "data": {
      "text/html": [
       "<div>\n",
       "<style scoped>\n",
       "    .dataframe tbody tr th:only-of-type {\n",
       "        vertical-align: middle;\n",
       "    }\n",
       "\n",
       "    .dataframe tbody tr th {\n",
       "        vertical-align: top;\n",
       "    }\n",
       "\n",
       "    .dataframe thead th {\n",
       "        text-align: right;\n",
       "    }\n",
       "</style>\n",
       "<table border=\"1\" class=\"dataframe\">\n",
       "  <thead>\n",
       "    <tr style=\"text-align: right;\">\n",
       "      <th></th>\n",
       "      <th>Gender</th>\n",
       "      <th>Height</th>\n",
       "      <th>Weight</th>\n",
       "    </tr>\n",
       "  </thead>\n",
       "  <tbody>\n",
       "    <tr>\n",
       "      <th>0</th>\n",
       "      <td>1</td>\n",
       "      <td>73.847017</td>\n",
       "      <td>241.893563</td>\n",
       "    </tr>\n",
       "    <tr>\n",
       "      <th>1</th>\n",
       "      <td>1</td>\n",
       "      <td>68.781904</td>\n",
       "      <td>162.310473</td>\n",
       "    </tr>\n",
       "    <tr>\n",
       "      <th>2</th>\n",
       "      <td>1</td>\n",
       "      <td>74.110105</td>\n",
       "      <td>212.740856</td>\n",
       "    </tr>\n",
       "    <tr>\n",
       "      <th>3</th>\n",
       "      <td>1</td>\n",
       "      <td>71.730978</td>\n",
       "      <td>220.042470</td>\n",
       "    </tr>\n",
       "    <tr>\n",
       "      <th>4</th>\n",
       "      <td>1</td>\n",
       "      <td>69.881796</td>\n",
       "      <td>206.349801</td>\n",
       "    </tr>\n",
       "  </tbody>\n",
       "</table>\n",
       "</div>"
      ],
      "text/plain": [
       "   Gender     Height      Weight\n",
       "0       1  73.847017  241.893563\n",
       "1       1  68.781904  162.310473\n",
       "2       1  74.110105  212.740856\n",
       "3       1  71.730978  220.042470\n",
       "4       1  69.881796  206.349801"
      ]
     },
     "execution_count": 16,
     "metadata": {},
     "output_type": "execute_result"
    }
   ],
   "source": [
    "df.head()"
   ]
  },
  {
   "cell_type": "code",
   "execution_count": 17,
   "id": "11d353ac",
   "metadata": {},
   "outputs": [],
   "source": [
    "pred = l_reg.predict(xtest)"
   ]
  },
  {
   "cell_type": "code",
   "execution_count": 18,
   "id": "718653ea",
   "metadata": {},
   "outputs": [
    {
     "data": {
      "text/plain": [
       "array([[135.56694384],\n",
       "       [186.71262166],\n",
       "       [186.71262166],\n",
       "       ...,\n",
       "       [135.56694384],\n",
       "       [186.71262166],\n",
       "       [135.56694384]])"
      ]
     },
     "execution_count": 18,
     "metadata": {},
     "output_type": "execute_result"
    }
   ],
   "source": [
    "np.array(pred)"
   ]
  },
  {
   "cell_type": "code",
   "execution_count": 19,
   "id": "3fff7820",
   "metadata": {},
   "outputs": [],
   "source": [
    "accuracy = l_reg.score(xtest,ytest)"
   ]
  },
  {
   "cell_type": "code",
   "execution_count": 20,
   "id": "74a9dd91",
   "metadata": {},
   "outputs": [
    {
     "data": {
      "text/plain": [
       "0.6355053557190797"
      ]
     },
     "execution_count": 20,
     "metadata": {},
     "output_type": "execute_result"
    }
   ],
   "source": [
    "accuracy"
   ]
  },
  {
   "cell_type": "code",
   "execution_count": 21,
   "id": "dd18c564",
   "metadata": {},
   "outputs": [],
   "source": [
    "from sklearn.metrics import mean_squared_error"
   ]
  },
  {
   "cell_type": "code",
   "execution_count": 22,
   "id": "3dbe9443",
   "metadata": {},
   "outputs": [],
   "source": [
    "mse = mean_squared_error(ytest,pred)"
   ]
  },
  {
   "cell_type": "code",
   "execution_count": 23,
   "id": "e6b22ef2",
   "metadata": {},
   "outputs": [
    {
     "data": {
      "text/plain": [
       "375.142517644801"
      ]
     },
     "execution_count": 23,
     "metadata": {},
     "output_type": "execute_result"
    }
   ],
   "source": [
    "mse"
   ]
  },
  {
   "cell_type": "code",
   "execution_count": 24,
   "id": "5c69c3b3",
   "metadata": {},
   "outputs": [],
   "source": [
    "from sklearn.metrics import mean_absolute_error"
   ]
  },
  {
   "cell_type": "code",
   "execution_count": 25,
   "id": "b9e225c0",
   "metadata": {},
   "outputs": [],
   "source": [
    "mae = mean_absolute_error(ytest,pred)"
   ]
  },
  {
   "cell_type": "code",
   "execution_count": 26,
   "id": "fc45ca59",
   "metadata": {},
   "outputs": [
    {
     "data": {
      "text/plain": [
       "15.477583120159887"
      ]
     },
     "execution_count": 26,
     "metadata": {},
     "output_type": "execute_result"
    }
   ],
   "source": [
    "mae"
   ]
  },
  {
   "cell_type": "markdown",
   "id": "55698f14",
   "metadata": {},
   "source": [
    "# KNN Regression"
   ]
  },
  {
   "cell_type": "code",
   "execution_count": 27,
   "id": "16e86688",
   "metadata": {},
   "outputs": [],
   "source": [
    "from sklearn.neighbors import KNeighborsRegressor"
   ]
  },
  {
   "cell_type": "code",
   "execution_count": 28,
   "id": "a955fb33",
   "metadata": {},
   "outputs": [],
   "source": [
    "kneigh = KNeighborsRegressor()"
   ]
  },
  {
   "cell_type": "code",
   "execution_count": 29,
   "id": "1162e397",
   "metadata": {},
   "outputs": [
    {
     "data": {
      "text/plain": [
       "KNeighborsRegressor()"
      ]
     },
     "execution_count": 29,
     "metadata": {},
     "output_type": "execute_result"
    }
   ],
   "source": [
    "kneigh.fit(xtrain,ytrain)"
   ]
  },
  {
   "cell_type": "code",
   "execution_count": 30,
   "id": "4cf63578",
   "metadata": {},
   "outputs": [],
   "source": [
    "knn_reg_pred = kneigh.predict(xtest)"
   ]
  },
  {
   "cell_type": "code",
   "execution_count": 31,
   "id": "75657d74",
   "metadata": {},
   "outputs": [
    {
     "data": {
      "text/plain": [
       "array([[148.39741828],\n",
       "       [179.34509034],\n",
       "       [179.34509034],\n",
       "       ...,\n",
       "       [148.39741828],\n",
       "       [179.34509034],\n",
       "       [148.39741828]])"
      ]
     },
     "execution_count": 31,
     "metadata": {},
     "output_type": "execute_result"
    }
   ],
   "source": [
    "knn_reg_pred"
   ]
  },
  {
   "cell_type": "code",
   "execution_count": 32,
   "id": "59245d5e",
   "metadata": {},
   "outputs": [],
   "source": [
    "knn_accuracy = kneigh.score(xtest,ytest)"
   ]
  },
  {
   "cell_type": "code",
   "execution_count": 33,
   "id": "ba312d17",
   "metadata": {},
   "outputs": [
    {
     "data": {
      "text/plain": [
       "0.5320187446732645"
      ]
     },
     "execution_count": 33,
     "metadata": {},
     "output_type": "execute_result"
    }
   ],
   "source": [
    "knn_accuracy"
   ]
  },
  {
   "cell_type": "code",
   "execution_count": 34,
   "id": "8d330d7f",
   "metadata": {},
   "outputs": [
    {
     "data": {
      "text/plain": [
       "[<matplotlib.lines.Line2D at 0x14ee51f26d0>]"
      ]
     },
     "execution_count": 34,
     "metadata": {},
     "output_type": "execute_result"
    },
    {
     "data": {
      "image/png": "[encoded data removed]",
      "text/plain": [
       "<Figure size 432x288 with 1 Axes>"
      ]
     },
     "metadata": {
      "needs_background": "light"
     },
     "output_type": "display_data"
    }
   ],
   "source": [
    "plt.scatter(xtest,ytest)\n",
    "plt.xlabel('Gender')\n",
    "plt.ylabel('Weight')\n",
    "plt.title('Height and Weight')\n",
    "plt.plot(xtest.squeeze(),l_reg.predict(xtest), color = 'Blue')\n",
    "plt.plot(xtest.squeeze(),kneigh.predict(xtest), color = 'Red')"
   ]
  },
  {
   "cell_type": "code",
   "execution_count": 35,
   "id": "baecc2d8",
   "metadata": {},
   "outputs": [],
   "source": [
    "knn_mse = mean_squared_error(ytest,knn_reg_pred)"
   ]
  },
  {
   "cell_type": "code",
   "execution_count": 36,
   "id": "1fa54ff4",
   "metadata": {},
   "outputs": [
    {
     "data": {
      "text/plain": [
       "481.65225220302574"
      ]
     },
     "execution_count": 36,
     "metadata": {},
     "output_type": "execute_result"
    }
   ],
   "source": [
    "knn_mse"
   ]
  },
  {
   "cell_type": "markdown",
   "id": "7f7112c9",
   "metadata": {},
   "source": [
    "# Tuning"
   ]
  },
  {
   "cell_type": "markdown",
   "id": "d8c97cb3",
   "metadata": {},
   "source": [
    "# Apply Randomized Search CV to select best K vlaue"
   ]
  },
  {
   "cell_type": "code",
   "execution_count": 37,
   "id": "765bde83",
   "metadata": {},
   "outputs": [],
   "source": [
    "#RandomizedSearchCV"
   ]
  },
  {
   "cell_type": "code",
   "execution_count": 38,
   "id": "7c5d9f31",
   "metadata": {},
   "outputs": [],
   "source": [
    "Neighbours = np.random.randint(1,10,8)\n",
    "weights = ['uniform', 'distance']\n",
    "algorithm = ['auto','ball_tree','kd_tree','brute']\n",
    "leaf_size = np.random.randint(1,50,32)\n",
    "p = [1,2,3]\n",
    "metric = ['minkowski']"
   ]
  },
  {
   "cell_type": "code",
   "execution_count": 39,
   "id": "1992817d",
   "metadata": {},
   "outputs": [],
   "source": [
    "grids = {\n",
    "    'n_neighbors': Neighbours,\n",
    "    'weights': weights,\n",
    "    'algorithm' : algorithm,\n",
    "    'leaf_size' : leaf_size,\n",
    "    'p' : p,\n",
    "    'metric':metric\n",
    "}"
   ]
  },
  {
   "cell_type": "code",
   "execution_count": 40,
   "id": "a58387ef",
   "metadata": {},
   "outputs": [
    {
     "name": "stdout",
     "output_type": "stream",
     "text": [
      "{'n_neighbors': array([8, 6, 1, 8, 4, 1, 9, 8]), 'weights': ['uniform', 'distance'], 'algorithm': ['auto', 'ball_tree', 'kd_tree', 'brute'], 'leaf_size': array([11, 21, 17, 10,  8, 35, 32, 11, 22,  1,  5, 10,  1, 26, 21,  2,  3,\n",
      "       20,  6, 24,  3, 25, 49, 31, 10, 30, 49, 33,  3, 29,  8, 10]), 'p': [1, 2, 3], 'metric': ['minkowski']}\n"
     ]
    }
   ],
   "source": [
    "print(grids)"
   ]
  },
  {
   "cell_type": "markdown",
   "id": "86981324",
   "metadata": {},
   "source": [
    "# Randomized Search CV "
   ]
  },
  {
   "cell_type": "code",
   "execution_count": 41,
   "id": "28804f77",
   "metadata": {},
   "outputs": [],
   "source": [
    "from sklearn.model_selection import RandomizedSearchCV"
   ]
  },
  {
   "cell_type": "code",
   "execution_count": 42,
   "id": "d5b93551",
   "metadata": {},
   "outputs": [],
   "source": [
    "randos = RandomizedSearchCV(estimator=kneigh,param_distributions=grids,n_iter=400,cv=3)"
   ]
  },
  {
   "cell_type": "code",
   "execution_count": 43,
   "id": "74864525",
   "metadata": {},
   "outputs": [
    {
     "data": {
      "text/plain": [
       "RandomizedSearchCV(cv=3, estimator=KNeighborsRegressor(), n_iter=400,\n",
       "                   param_distributions={'algorithm': ['auto', 'ball_tree',\n",
       "                                                      'kd_tree', 'brute'],\n",
       "                                        'leaf_size': array([11, 21, 17, 10,  8, 35, 32, 11, 22,  1,  5, 10,  1, 26, 21,  2,  3,\n",
       "       20,  6, 24,  3, 25, 49, 31, 10, 30, 49, 33,  3, 29,  8, 10]),\n",
       "                                        'metric': ['minkowski'],\n",
       "                                        'n_neighbors': array([8, 6, 1, 8, 4, 1, 9, 8]),\n",
       "                                        'p': [1, 2, 3],\n",
       "                                        'weights': ['uniform', 'distance']})"
      ]
     },
     "execution_count": 43,
     "metadata": {},
     "output_type": "execute_result"
    }
   ],
   "source": [
    "randos"
   ]
  },
  {
   "cell_type": "code",
   "execution_count": 44,
   "id": "184398a2",
   "metadata": {},
   "outputs": [
    {
     "data": {
      "text/plain": [
       "RandomizedSearchCV(cv=3, estimator=KNeighborsRegressor(), n_iter=400,\n",
       "                   param_distributions={'algorithm': ['auto', 'ball_tree',\n",
       "                                                      'kd_tree', 'brute'],\n",
       "                                        'leaf_size': array([11, 21, 17, 10,  8, 35, 32, 11, 22,  1,  5, 10,  1, 26, 21,  2,  3,\n",
       "       20,  6, 24,  3, 25, 49, 31, 10, 30, 49, 33,  3, 29,  8, 10]),\n",
       "                                        'metric': ['minkowski'],\n",
       "                                        'n_neighbors': array([8, 6, 1, 8, 4, 1, 9, 8]),\n",
       "                                        'p': [1, 2, 3],\n",
       "                                        'weights': ['uniform', 'distance']})"
      ]
     },
     "execution_count": 44,
     "metadata": {},
     "output_type": "execute_result"
    }
   ],
   "source": [
    "randos.fit(xtrain,ytrain)"
   ]
  },
  {
   "cell_type": "code",
   "execution_count": 45,
   "id": "988f2127",
   "metadata": {},
   "outputs": [
    {
     "data": {
      "text/plain": [
       "{'weights': 'distance',\n",
       " 'p': 1,\n",
       " 'n_neighbors': 9,\n",
       " 'metric': 'minkowski',\n",
       " 'leaf_size': 1,\n",
       " 'algorithm': 'auto'}"
      ]
     },
     "execution_count": 45,
     "metadata": {},
     "output_type": "execute_result"
    }
   ],
   "source": [
    "randos.best_params_"
   ]
  },
  {
   "cell_type": "code",
   "execution_count": 46,
   "id": "4dae9e37",
   "metadata": {},
   "outputs": [
    {
     "data": {
      "text/plain": [
       "0.58280760193163"
      ]
     },
     "execution_count": 46,
     "metadata": {},
     "output_type": "execute_result"
    }
   ],
   "source": [
    "randos.best_score_"
   ]
  },
  {
   "cell_type": "code",
   "execution_count": 47,
   "id": "19443cc2",
   "metadata": {},
   "outputs": [],
   "source": [
    "ran = randos.best_estimator_"
   ]
  },
  {
   "cell_type": "code",
   "execution_count": 48,
   "id": "c7c22570",
   "metadata": {},
   "outputs": [
    {
     "data": {
      "text/plain": [
       "KNeighborsRegressor(leaf_size=1, n_neighbors=9, p=1, weights='distance')"
      ]
     },
     "execution_count": 48,
     "metadata": {},
     "output_type": "execute_result"
    }
   ],
   "source": [
    "ran"
   ]
  },
  {
   "cell_type": "code",
   "execution_count": 49,
   "id": "3990e668",
   "metadata": {},
   "outputs": [
    {
     "data": {
      "text/plain": [
       "KNeighborsRegressor(leaf_size=1, n_neighbors=9, p=1, weights='distance')"
      ]
     },
     "execution_count": 49,
     "metadata": {},
     "output_type": "execute_result"
    }
   ],
   "source": [
    "ran.fit(xtrain,ytrain)"
   ]
  },
  {
   "cell_type": "code",
   "execution_count": 50,
   "id": "2fdbc8ff",
   "metadata": {},
   "outputs": [],
   "source": [
    "knn_reg_tuning_pred = ran.predict(xtest)"
   ]
  },
  {
   "cell_type": "code",
   "execution_count": 51,
   "id": "00af2621",
   "metadata": {},
   "outputs": [
    {
     "data": {
      "text/plain": [
       "array([[141.13831952],\n",
       "       [182.10845839],\n",
       "       [182.10845839],\n",
       "       ...,\n",
       "       [141.13831952],\n",
       "       [182.10845839],\n",
       "       [141.13831952]])"
      ]
     },
     "execution_count": 51,
     "metadata": {},
     "output_type": "execute_result"
    }
   ],
   "source": [
    "knn_reg_tuning_pred"
   ]
  },
  {
   "cell_type": "code",
   "execution_count": 52,
   "id": "86347d9f",
   "metadata": {},
   "outputs": [],
   "source": [
    "knn_accuracy_tun = ran.score(xtest,ytest)"
   ]
  },
  {
   "cell_type": "code",
   "execution_count": 53,
   "id": "9e8c87ef",
   "metadata": {},
   "outputs": [
    {
     "data": {
      "text/plain": [
       "0.6067980938855837"
      ]
     },
     "execution_count": 53,
     "metadata": {},
     "output_type": "execute_result"
    }
   ],
   "source": [
    "knn_accuracy_tun"
   ]
  },
  {
   "cell_type": "code",
   "execution_count": 54,
   "id": "efe7f04a",
   "metadata": {},
   "outputs": [],
   "source": [
    "knn_mse_tun = mean_squared_error(ytest,knn_reg_tuning_pred)"
   ]
  },
  {
   "cell_type": "code",
   "execution_count": 55,
   "id": "d8a9a2f3",
   "metadata": {},
   "outputs": [
    {
     "data": {
      "text/plain": [
       "404.68839615874197"
      ]
     },
     "execution_count": 55,
     "metadata": {},
     "output_type": "execute_result"
    }
   ],
   "source": [
    "knn_mse_tun"
   ]
  },
  {
   "cell_type": "code",
   "execution_count": 56,
   "id": "ece71181",
   "metadata": {},
   "outputs": [
    {
     "data": {
      "text/plain": [
       "[<matplotlib.lines.Line2D at 0x14ee56c32b0>]"
      ]
     },
     "execution_count": 56,
     "metadata": {},
     "output_type": "execute_result"
    },
    {
     "data": {
      "image/png": "[encoded data removed]",
      "text/plain": [
       "<Figure size 432x288 with 1 Axes>"
      ]
     },
     "metadata": {
      "needs_background": "light"
     },
     "output_type": "display_data"
    }
   ],
   "source": [
    "plt.scatter(xtest,ytest)\n",
    "plt.xlabel('Gender')\n",
    "plt.ylabel('Weight')\n",
    "plt.title('Height and Weight')\n",
    "plt.plot(xtest.squeeze(),l_reg.predict(xtest), color = 'Blue')\n",
    "plt.plot(xtest.squeeze(),kneigh.predict(xtest), color = 'Red')\n",
    "plt.plot(xtest.squeeze(),ran.predict(xtest),color = 'Green')"
   ]
  },
  {
   "cell_type": "markdown",
   "id": "ff4be07e",
   "metadata": {},
   "source": [
    "# x=Height, y = Weight"
   ]
  },
  {
   "cell_type": "code",
   "execution_count": 57,
   "id": "f9d083a3",
   "metadata": {},
   "outputs": [],
   "source": [
    "x1 = df[['Height']]"
   ]
  },
  {
   "cell_type": "code",
   "execution_count": 58,
   "id": "c5aedd8d",
   "metadata": {},
   "outputs": [],
   "source": [
    "xtrain,xtest,ytrain,ytest = train_test_split(x1,y,test_size=.30,random_state=40)"
   ]
  },
  {
   "cell_type": "code",
   "execution_count": 59,
   "id": "c506acbe",
   "metadata": {
    "scrolled": true
   },
   "outputs": [
    {
     "data": {
      "text/html": [
       "<div>\n",
       "<style scoped>\n",
       "    .dataframe tbody tr th:only-of-type {\n",
       "        vertical-align: middle;\n",
       "    }\n",
       "\n",
       "    .dataframe tbody tr th {\n",
       "        vertical-align: top;\n",
       "    }\n",
       "\n",
       "    .dataframe thead th {\n",
       "        text-align: right;\n",
       "    }\n",
       "</style>\n",
       "<table border=\"1\" class=\"dataframe\">\n",
       "  <thead>\n",
       "    <tr style=\"text-align: right;\">\n",
       "      <th></th>\n",
       "      <th>Height</th>\n",
       "    </tr>\n",
       "  </thead>\n",
       "  <tbody>\n",
       "    <tr>\n",
       "      <th>6699</th>\n",
       "      <td>65.074119</td>\n",
       "    </tr>\n",
       "    <tr>\n",
       "      <th>3507</th>\n",
       "      <td>67.089302</td>\n",
       "    </tr>\n",
       "    <tr>\n",
       "      <th>7856</th>\n",
       "      <td>72.264748</td>\n",
       "    </tr>\n",
       "    <tr>\n",
       "      <th>4000</th>\n",
       "      <td>68.662144</td>\n",
       "    </tr>\n",
       "    <tr>\n",
       "      <th>6542</th>\n",
       "      <td>65.095308</td>\n",
       "    </tr>\n",
       "  </tbody>\n",
       "</table>\n",
       "</div>"
      ],
      "text/plain": [
       "         Height\n",
       "6699  65.074119\n",
       "3507  67.089302\n",
       "7856  72.264748\n",
       "4000  68.662144\n",
       "6542  65.095308"
      ]
     },
     "execution_count": 59,
     "metadata": {},
     "output_type": "execute_result"
    }
   ],
   "source": [
    "xtrain.head()"
   ]
  },
  {
   "cell_type": "code",
   "execution_count": 60,
   "id": "35bc0a26",
   "metadata": {},
   "outputs": [
    {
     "data": {
      "text/plain": [
       "LinearRegression()"
      ]
     },
     "execution_count": 60,
     "metadata": {},
     "output_type": "execute_result"
    }
   ],
   "source": [
    "l_reg.fit(xtrain,ytrain)"
   ]
  },
  {
   "cell_type": "code",
   "execution_count": 61,
   "id": "520d3101",
   "metadata": {},
   "outputs": [],
   "source": [
    "pred_1 = l_reg.predict(xtest)"
   ]
  },
  {
   "cell_type": "code",
   "execution_count": 62,
   "id": "eaa19d1c",
   "metadata": {},
   "outputs": [
    {
     "data": {
      "text/plain": [
       "array([[189.6542635 ],\n",
       "       [169.00465826],\n",
       "       [170.26696497],\n",
       "       ...,\n",
       "       [122.94117922],\n",
       "       [191.20082035],\n",
       "       [133.79815519]])"
      ]
     },
     "execution_count": 62,
     "metadata": {},
     "output_type": "execute_result"
    }
   ],
   "source": [
    "np.array(pred_1)"
   ]
  },
  {
   "cell_type": "code",
   "execution_count": 63,
   "id": "76ec5629",
   "metadata": {},
   "outputs": [],
   "source": [
    "accuracy_1 = l_reg.score(xtest,ytest)"
   ]
  },
  {
   "cell_type": "code",
   "execution_count": 64,
   "id": "2a5a2b2b",
   "metadata": {},
   "outputs": [
    {
     "data": {
      "text/plain": [
       "0.8528799863886187"
      ]
     },
     "execution_count": 64,
     "metadata": {},
     "output_type": "execute_result"
    }
   ],
   "source": [
    "accuracy_1"
   ]
  },
  {
   "cell_type": "code",
   "execution_count": 65,
   "id": "86477bad",
   "metadata": {},
   "outputs": [],
   "source": [
    "mse_1 = mean_squared_error(ytest,pred_1)"
   ]
  },
  {
   "cell_type": "code",
   "execution_count": 66,
   "id": "7c45df60",
   "metadata": {},
   "outputs": [
    {
     "data": {
      "text/plain": [
       "153.94522277110227"
      ]
     },
     "execution_count": 66,
     "metadata": {},
     "output_type": "execute_result"
    }
   ],
   "source": [
    "mse_1"
   ]
  },
  {
   "cell_type": "code",
   "execution_count": 67,
   "id": "e4f51903",
   "metadata": {},
   "outputs": [],
   "source": [
    "mae_1 = mean_absolute_error(ytest,pred_1)"
   ]
  },
  {
   "cell_type": "code",
   "execution_count": 68,
   "id": "a1031401",
   "metadata": {},
   "outputs": [
    {
     "data": {
      "text/plain": [
       "9.910404461285761"
      ]
     },
     "execution_count": 68,
     "metadata": {},
     "output_type": "execute_result"
    }
   ],
   "source": [
    "mae_1"
   ]
  },
  {
   "cell_type": "markdown",
   "id": "c1a2f22a",
   "metadata": {},
   "source": [
    "# KNN model Linear regression"
   ]
  },
  {
   "cell_type": "code",
   "execution_count": 69,
   "id": "0693f802",
   "metadata": {},
   "outputs": [],
   "source": [
    "from sklearn.neighbors import KNeighborsRegressor"
   ]
  },
  {
   "cell_type": "code",
   "execution_count": 70,
   "id": "f0799534",
   "metadata": {},
   "outputs": [
    {
     "data": {
      "text/html": [
       "<div>\n",
       "<style scoped>\n",
       "    .dataframe tbody tr th:only-of-type {\n",
       "        vertical-align: middle;\n",
       "    }\n",
       "\n",
       "    .dataframe tbody tr th {\n",
       "        vertical-align: top;\n",
       "    }\n",
       "\n",
       "    .dataframe thead th {\n",
       "        text-align: right;\n",
       "    }\n",
       "</style>\n",
       "<table border=\"1\" class=\"dataframe\">\n",
       "  <thead>\n",
       "    <tr style=\"text-align: right;\">\n",
       "      <th></th>\n",
       "      <th>Gender</th>\n",
       "      <th>Height</th>\n",
       "      <th>Weight</th>\n",
       "    </tr>\n",
       "  </thead>\n",
       "  <tbody>\n",
       "    <tr>\n",
       "      <th>0</th>\n",
       "      <td>1</td>\n",
       "      <td>73.847017</td>\n",
       "      <td>241.893563</td>\n",
       "    </tr>\n",
       "    <tr>\n",
       "      <th>1</th>\n",
       "      <td>1</td>\n",
       "      <td>68.781904</td>\n",
       "      <td>162.310473</td>\n",
       "    </tr>\n",
       "    <tr>\n",
       "      <th>2</th>\n",
       "      <td>1</td>\n",
       "      <td>74.110105</td>\n",
       "      <td>212.740856</td>\n",
       "    </tr>\n",
       "    <tr>\n",
       "      <th>3</th>\n",
       "      <td>1</td>\n",
       "      <td>71.730978</td>\n",
       "      <td>220.042470</td>\n",
       "    </tr>\n",
       "    <tr>\n",
       "      <th>4</th>\n",
       "      <td>1</td>\n",
       "      <td>69.881796</td>\n",
       "      <td>206.349801</td>\n",
       "    </tr>\n",
       "  </tbody>\n",
       "</table>\n",
       "</div>"
      ],
      "text/plain": [
       "   Gender     Height      Weight\n",
       "0       1  73.847017  241.893563\n",
       "1       1  68.781904  162.310473\n",
       "2       1  74.110105  212.740856\n",
       "3       1  71.730978  220.042470\n",
       "4       1  69.881796  206.349801"
      ]
     },
     "execution_count": 70,
     "metadata": {},
     "output_type": "execute_result"
    }
   ],
   "source": [
    "df.head()"
   ]
  },
  {
   "cell_type": "code",
   "execution_count": 71,
   "id": "a24e337f",
   "metadata": {},
   "outputs": [
    {
     "data": {
      "text/plain": [
       "KNeighborsRegressor()"
      ]
     },
     "execution_count": 71,
     "metadata": {},
     "output_type": "execute_result"
    }
   ],
   "source": [
    "kneigh.fit(xtrain,ytrain)"
   ]
  },
  {
   "cell_type": "code",
   "execution_count": 72,
   "id": "e9248758",
   "metadata": {},
   "outputs": [],
   "source": [
    "knn_pred_1 = kneigh.predict(xtest)"
   ]
  },
  {
   "cell_type": "code",
   "execution_count": 73,
   "id": "b394d893",
   "metadata": {},
   "outputs": [
    {
     "data": {
      "text/plain": [
       "array([[191.13291676],\n",
       "       [166.40551102],\n",
       "       [176.37907024],\n",
       "       ...,\n",
       "       [122.6278033 ],\n",
       "       [194.14607378],\n",
       "       [137.0226128 ]])"
      ]
     },
     "execution_count": 73,
     "metadata": {},
     "output_type": "execute_result"
    }
   ],
   "source": [
    "knn_pred_1"
   ]
  },
  {
   "cell_type": "code",
   "execution_count": 74,
   "id": "9da57485",
   "metadata": {},
   "outputs": [],
   "source": [
    "knn_accuracy_1 = kneigh.score(xtest,ytest)"
   ]
  },
  {
   "cell_type": "code",
   "execution_count": 75,
   "id": "4eb8cba3",
   "metadata": {},
   "outputs": [
    {
     "data": {
      "text/plain": [
       "0.8286940373463139"
      ]
     },
     "execution_count": 75,
     "metadata": {},
     "output_type": "execute_result"
    }
   ],
   "source": [
    "knn_accuracy_1"
   ]
  },
  {
   "cell_type": "code",
   "execution_count": 76,
   "id": "56fecff5",
   "metadata": {},
   "outputs": [
    {
     "data": {
      "text/plain": [
       "[<matplotlib.lines.Line2D at 0x14ee57ed2e0>]"
      ]
     },
     "execution_count": 76,
     "metadata": {},
     "output_type": "execute_result"
    },
    {
     "data": {
      "image/png": "[encoded data removed]",
      "text/plain": [
       "<Figure size 432x288 with 1 Axes>"
      ]
     },
     "metadata": {
      "needs_background": "light"
     },
     "output_type": "display_data"
    }
   ],
   "source": [
    "plt.scatter(xtest,ytest)\n",
    "plt.xlabel('Height')\n",
    "plt.ylabel('Weight')\n",
    "plt.title('Height and Weight')\n",
    "plt.plot(xtest.squeeze(),l_reg.predict(xtest), color = 'Blue')\n",
    "plt.plot(xtest.squeeze(),kneigh.predict(xtest), color = 'Red')"
   ]
  },
  {
   "cell_type": "code",
   "execution_count": 77,
   "id": "177fc9b8",
   "metadata": {},
   "outputs": [],
   "source": [
    "mse_knn_1 = mean_squared_error(ytest,knn_pred_1)"
   ]
  },
  {
   "cell_type": "code",
   "execution_count": 78,
   "id": "31291610",
   "metadata": {},
   "outputs": [
    {
     "data": {
      "text/plain": [
       "179.25320923637898"
      ]
     },
     "execution_count": 78,
     "metadata": {},
     "output_type": "execute_result"
    }
   ],
   "source": [
    "mse_knn_1"
   ]
  },
  {
   "cell_type": "markdown",
   "id": "6dea6fcf",
   "metadata": {},
   "source": [
    "# Tuning"
   ]
  },
  {
   "cell_type": "code",
   "execution_count": 79,
   "id": "ec0309c0",
   "metadata": {},
   "outputs": [],
   "source": [
    "randos = RandomizedSearchCV(estimator=kneigh,param_distributions=grids,n_iter=400,cv=3)"
   ]
  },
  {
   "cell_type": "code",
   "execution_count": 80,
   "id": "5b6e8813",
   "metadata": {},
   "outputs": [
    {
     "data": {
      "text/plain": [
       "RandomizedSearchCV(cv=3, estimator=KNeighborsRegressor(), n_iter=400,\n",
       "                   param_distributions={'algorithm': ['auto', 'ball_tree',\n",
       "                                                      'kd_tree', 'brute'],\n",
       "                                        'leaf_size': array([11, 21, 17, 10,  8, 35, 32, 11, 22,  1,  5, 10,  1, 26, 21,  2,  3,\n",
       "       20,  6, 24,  3, 25, 49, 31, 10, 30, 49, 33,  3, 29,  8, 10]),\n",
       "                                        'metric': ['minkowski'],\n",
       "                                        'n_neighbors': array([8, 6, 1, 8, 4, 1, 9, 8]),\n",
       "                                        'p': [1, 2, 3],\n",
       "                                        'weights': ['uniform', 'distance']})"
      ]
     },
     "execution_count": 80,
     "metadata": {},
     "output_type": "execute_result"
    }
   ],
   "source": [
    "randos"
   ]
  },
  {
   "cell_type": "code",
   "execution_count": 81,
   "id": "248dc983",
   "metadata": {},
   "outputs": [
    {
     "data": {
      "text/plain": [
       "RandomizedSearchCV(cv=3, estimator=KNeighborsRegressor(), n_iter=400,\n",
       "                   param_distributions={'algorithm': ['auto', 'ball_tree',\n",
       "                                                      'kd_tree', 'brute'],\n",
       "                                        'leaf_size': array([11, 21, 17, 10,  8, 35, 32, 11, 22,  1,  5, 10,  1, 26, 21,  2,  3,\n",
       "       20,  6, 24,  3, 25, 49, 31, 10, 30, 49, 33,  3, 29,  8, 10]),\n",
       "                                        'metric': ['minkowski'],\n",
       "                                        'n_neighbors': array([8, 6, 1, 8, 4, 1, 9, 8]),\n",
       "                                        'p': [1, 2, 3],\n",
       "                                        'weights': ['uniform', 'distance']})"
      ]
     },
     "execution_count": 81,
     "metadata": {},
     "output_type": "execute_result"
    }
   ],
   "source": [
    "randos.fit(xtrain,ytrain)"
   ]
  },
  {
   "cell_type": "code",
   "execution_count": 82,
   "id": "fcf68599",
   "metadata": {},
   "outputs": [
    {
     "data": {
      "text/plain": [
       "{'weights': 'uniform',\n",
       " 'p': 3,\n",
       " 'n_neighbors': 9,\n",
       " 'metric': 'minkowski',\n",
       " 'leaf_size': 25,\n",
       " 'algorithm': 'brute'}"
      ]
     },
     "execution_count": 82,
     "metadata": {},
     "output_type": "execute_result"
    }
   ],
   "source": [
    "randos.best_params_"
   ]
  },
  {
   "cell_type": "code",
   "execution_count": 83,
   "id": "e3473694",
   "metadata": {},
   "outputs": [
    {
     "data": {
      "text/plain": [
       "0.8371609024612061"
      ]
     },
     "execution_count": 83,
     "metadata": {},
     "output_type": "execute_result"
    }
   ],
   "source": [
    "randos.best_score_"
   ]
  },
  {
   "cell_type": "code",
   "execution_count": 84,
   "id": "8195a686",
   "metadata": {},
   "outputs": [],
   "source": [
    "ran_1 = randos.best_estimator_"
   ]
  },
  {
   "cell_type": "code",
   "execution_count": 85,
   "id": "3d15d0b7",
   "metadata": {},
   "outputs": [
    {
     "data": {
      "text/plain": [
       "KNeighborsRegressor(algorithm='brute', leaf_size=25, n_neighbors=9, p=3)"
      ]
     },
     "execution_count": 85,
     "metadata": {},
     "output_type": "execute_result"
    }
   ],
   "source": [
    "ran_1"
   ]
  },
  {
   "cell_type": "code",
   "execution_count": 86,
   "id": "4b412db9",
   "metadata": {},
   "outputs": [
    {
     "data": {
      "text/plain": [
       "KNeighborsRegressor(algorithm='brute', leaf_size=25, n_neighbors=9, p=3)"
      ]
     },
     "execution_count": 86,
     "metadata": {},
     "output_type": "execute_result"
    }
   ],
   "source": [
    "ran_1.fit(xtrain,ytrain)"
   ]
  },
  {
   "cell_type": "code",
   "execution_count": 87,
   "id": "5376d32a",
   "metadata": {},
   "outputs": [],
   "source": [
    "accuracy_1 = ran_1.score(xtest,ytest)"
   ]
  },
  {
   "cell_type": "code",
   "execution_count": 88,
   "id": "75fa3883",
   "metadata": {},
   "outputs": [
    {
     "data": {
      "text/plain": [
       "0.8413258366760981"
      ]
     },
     "execution_count": 88,
     "metadata": {},
     "output_type": "execute_result"
    }
   ],
   "source": [
    "accuracy_1"
   ]
  },
  {
   "cell_type": "code",
   "execution_count": 89,
   "id": "2c0bfe45",
   "metadata": {},
   "outputs": [],
   "source": [
    "pred_tun_1 = ran_1.predict(xtest)"
   ]
  },
  {
   "cell_type": "code",
   "execution_count": 90,
   "id": "e1c16a71",
   "metadata": {},
   "outputs": [
    {
     "data": {
      "text/plain": [
       "array([[192.12814078],\n",
       "       [173.0487974 ],\n",
       "       [171.81812719],\n",
       "       ...,\n",
       "       [120.70411996],\n",
       "       [199.06672466],\n",
       "       [132.0643356 ]])"
      ]
     },
     "execution_count": 90,
     "metadata": {},
     "output_type": "execute_result"
    }
   ],
   "source": [
    "pred_tun_1"
   ]
  },
  {
   "cell_type": "code",
   "execution_count": 91,
   "id": "266e8b12",
   "metadata": {},
   "outputs": [],
   "source": [
    "mse_knn_tun_1 = mean_squared_error(ytest,pred_tun_1)"
   ]
  },
  {
   "cell_type": "code",
   "execution_count": 92,
   "id": "f74fef9c",
   "metadata": {},
   "outputs": [
    {
     "data": {
      "text/plain": [
       "166.0353939705363"
      ]
     },
     "execution_count": 92,
     "metadata": {},
     "output_type": "execute_result"
    }
   ],
   "source": [
    "mse_knn_tun_1"
   ]
  },
  {
   "cell_type": "code",
   "execution_count": 93,
   "id": "b7a53231",
   "metadata": {},
   "outputs": [
    {
     "data": {
      "text/plain": [
       "[<matplotlib.lines.Line2D at 0x14ee6bea640>]"
      ]
     },
     "execution_count": 93,
     "metadata": {},
     "output_type": "execute_result"
    },
    {
     "data": {
      "image/png": "[encoded data removed]",
      "text/plain": [
       "<Figure size 432x288 with 1 Axes>"
      ]
     },
     "metadata": {
      "needs_background": "light"
     },
     "output_type": "display_data"
    }
   ],
   "source": [
    "plt.scatter(xtest,ytest)\n",
    "plt.xlabel('Height')\n",
    "plt.ylabel('Weight')\n",
    "plt.title('Height and Weight')\n",
    "plt.plot(xtest.squeeze(),l_reg.predict(xtest), color = 'Blue')\n",
    "plt.plot(xtest.squeeze(),kneigh.predict(xtest), color = 'Red')\n",
    "plt.plot(xtest.squeeze(),ran_1.predict(xtest), color = 'Green')"
   ]
  },
  {
   "cell_type": "markdown",
   "id": "d2d0f9d2",
   "metadata": {},
   "source": [
    "# Step:2: KNN Classifier:"
   ]
  },
  {
   "cell_type": "code",
   "execution_count": 94,
   "id": "b62af5d2",
   "metadata": {},
   "outputs": [
    {
     "data": {
      "text/html": [
       "<div>\n",
       "<style scoped>\n",
       "    .dataframe tbody tr th:only-of-type {\n",
       "        vertical-align: middle;\n",
       "    }\n",
       "\n",
       "    .dataframe tbody tr th {\n",
       "        vertical-align: top;\n",
       "    }\n",
       "\n",
       "    .dataframe thead th {\n",
       "        text-align: right;\n",
       "    }\n",
       "</style>\n",
       "<table border=\"1\" class=\"dataframe\">\n",
       "  <thead>\n",
       "    <tr style=\"text-align: right;\">\n",
       "      <th></th>\n",
       "      <th>Gender</th>\n",
       "      <th>Height</th>\n",
       "      <th>Weight</th>\n",
       "    </tr>\n",
       "  </thead>\n",
       "  <tbody>\n",
       "    <tr>\n",
       "      <th>0</th>\n",
       "      <td>1</td>\n",
       "      <td>73.847017</td>\n",
       "      <td>241.893563</td>\n",
       "    </tr>\n",
       "    <tr>\n",
       "      <th>1</th>\n",
       "      <td>1</td>\n",
       "      <td>68.781904</td>\n",
       "      <td>162.310473</td>\n",
       "    </tr>\n",
       "    <tr>\n",
       "      <th>2</th>\n",
       "      <td>1</td>\n",
       "      <td>74.110105</td>\n",
       "      <td>212.740856</td>\n",
       "    </tr>\n",
       "    <tr>\n",
       "      <th>3</th>\n",
       "      <td>1</td>\n",
       "      <td>71.730978</td>\n",
       "      <td>220.042470</td>\n",
       "    </tr>\n",
       "    <tr>\n",
       "      <th>4</th>\n",
       "      <td>1</td>\n",
       "      <td>69.881796</td>\n",
       "      <td>206.349801</td>\n",
       "    </tr>\n",
       "  </tbody>\n",
       "</table>\n",
       "</div>"
      ],
      "text/plain": [
       "   Gender     Height      Weight\n",
       "0       1  73.847017  241.893563\n",
       "1       1  68.781904  162.310473\n",
       "2       1  74.110105  212.740856\n",
       "3       1  71.730978  220.042470\n",
       "4       1  69.881796  206.349801"
      ]
     },
     "execution_count": 94,
     "metadata": {},
     "output_type": "execute_result"
    }
   ],
   "source": [
    "df.head()"
   ]
  },
  {
   "cell_type": "code",
   "execution_count": 95,
   "id": "b71783ab",
   "metadata": {},
   "outputs": [],
   "source": [
    "x2 = df.drop('Gender',axis=1)\n",
    "y1 = df['Gender']"
   ]
  },
  {
   "cell_type": "code",
   "execution_count": 96,
   "id": "885faa0f",
   "metadata": {},
   "outputs": [
    {
     "data": {
      "text/html": [
       "<div>\n",
       "<style scoped>\n",
       "    .dataframe tbody tr th:only-of-type {\n",
       "        vertical-align: middle;\n",
       "    }\n",
       "\n",
       "    .dataframe tbody tr th {\n",
       "        vertical-align: top;\n",
       "    }\n",
       "\n",
       "    .dataframe thead th {\n",
       "        text-align: right;\n",
       "    }\n",
       "</style>\n",
       "<table border=\"1\" class=\"dataframe\">\n",
       "  <thead>\n",
       "    <tr style=\"text-align: right;\">\n",
       "      <th></th>\n",
       "      <th>Height</th>\n",
       "      <th>Weight</th>\n",
       "    </tr>\n",
       "  </thead>\n",
       "  <tbody>\n",
       "    <tr>\n",
       "      <th>0</th>\n",
       "      <td>73.847017</td>\n",
       "      <td>241.893563</td>\n",
       "    </tr>\n",
       "    <tr>\n",
       "      <th>1</th>\n",
       "      <td>68.781904</td>\n",
       "      <td>162.310473</td>\n",
       "    </tr>\n",
       "    <tr>\n",
       "      <th>2</th>\n",
       "      <td>74.110105</td>\n",
       "      <td>212.740856</td>\n",
       "    </tr>\n",
       "    <tr>\n",
       "      <th>3</th>\n",
       "      <td>71.730978</td>\n",
       "      <td>220.042470</td>\n",
       "    </tr>\n",
       "    <tr>\n",
       "      <th>4</th>\n",
       "      <td>69.881796</td>\n",
       "      <td>206.349801</td>\n",
       "    </tr>\n",
       "  </tbody>\n",
       "</table>\n",
       "</div>"
      ],
      "text/plain": [
       "      Height      Weight\n",
       "0  73.847017  241.893563\n",
       "1  68.781904  162.310473\n",
       "2  74.110105  212.740856\n",
       "3  71.730978  220.042470\n",
       "4  69.881796  206.349801"
      ]
     },
     "execution_count": 96,
     "metadata": {},
     "output_type": "execute_result"
    }
   ],
   "source": [
    "x2.head()"
   ]
  },
  {
   "cell_type": "code",
   "execution_count": 97,
   "id": "b8b2a0b9",
   "metadata": {},
   "outputs": [],
   "source": [
    "xtrain,xtest,ytrain,ytest = train_test_split(x2,y1,random_state=42,test_size=.30)"
   ]
  },
  {
   "cell_type": "code",
   "execution_count": 98,
   "id": "741bcc5b",
   "metadata": {},
   "outputs": [
    {
     "data": {
      "text/plain": [
       "(5988, 2)"
      ]
     },
     "execution_count": 98,
     "metadata": {},
     "output_type": "execute_result"
    }
   ],
   "source": [
    "xtrain.shape"
   ]
  },
  {
   "cell_type": "code",
   "execution_count": 99,
   "id": "2154c5fe",
   "metadata": {},
   "outputs": [
    {
     "data": {
      "text/plain": [
       "(5988,)"
      ]
     },
     "execution_count": 99,
     "metadata": {},
     "output_type": "execute_result"
    }
   ],
   "source": [
    "ytrain.shape"
   ]
  },
  {
   "cell_type": "code",
   "execution_count": 100,
   "id": "bcf92779",
   "metadata": {},
   "outputs": [],
   "source": [
    "from sklearn.neighbors import KNeighborsClassifier"
   ]
  },
  {
   "cell_type": "code",
   "execution_count": 101,
   "id": "444b04f2",
   "metadata": {},
   "outputs": [],
   "source": [
    "neig_clf = KNeighborsClassifier()"
   ]
  },
  {
   "cell_type": "code",
   "execution_count": 102,
   "id": "5cbd7f4c",
   "metadata": {},
   "outputs": [
    {
     "data": {
      "text/plain": [
       "KNeighborsClassifier()"
      ]
     },
     "execution_count": 102,
     "metadata": {},
     "output_type": "execute_result"
    }
   ],
   "source": [
    "neig_clf.fit(xtrain,ytrain)"
   ]
  },
  {
   "cell_type": "code",
   "execution_count": 103,
   "id": "2def626c",
   "metadata": {},
   "outputs": [],
   "source": [
    "neig_clf_predict = neig_clf.predict(xtest)"
   ]
  },
  {
   "cell_type": "code",
   "execution_count": 104,
   "id": "9ddf5fbf",
   "metadata": {},
   "outputs": [],
   "source": [
    "from sklearn.metrics import classification_report , accuracy_score, confusion_matrix, plot_roc_curve"
   ]
  },
  {
   "cell_type": "code",
   "execution_count": 105,
   "id": "b70a4f6a",
   "metadata": {},
   "outputs": [
    {
     "name": "stdout",
     "output_type": "stream",
     "text": [
      "              precision    recall  f1-score   support\n",
      "\n",
      "           0       0.90      0.89      0.89      1066\n",
      "           1       0.92      0.93      0.93      1501\n",
      "\n",
      "    accuracy                           0.91      2567\n",
      "   macro avg       0.91      0.91      0.91      2567\n",
      "weighted avg       0.91      0.91      0.91      2567\n",
      "\n"
     ]
    }
   ],
   "source": [
    "print(classification_report(ytest,neig_clf_predict))"
   ]
  },
  {
   "cell_type": "code",
   "execution_count": 106,
   "id": "037d211a",
   "metadata": {},
   "outputs": [
    {
     "data": {
      "text/plain": [
       "array([[ 945,  121],\n",
       "       [ 102, 1399]], dtype=int64)"
      ]
     },
     "execution_count": 106,
     "metadata": {},
     "output_type": "execute_result"
    }
   ],
   "source": [
    "confusion_matrix(ytest,neig_clf_predict)"
   ]
  },
  {
   "cell_type": "code",
   "execution_count": 107,
   "id": "e9068676",
   "metadata": {},
   "outputs": [
    {
     "data": {
      "text/plain": [
       "0.9131281651733542"
      ]
     },
     "execution_count": 107,
     "metadata": {},
     "output_type": "execute_result"
    }
   ],
   "source": [
    "accuracy_score(ytest,neig_clf_predict)"
   ]
  },
  {
   "cell_type": "code",
   "execution_count": 108,
   "id": "5e3e935d",
   "metadata": {},
   "outputs": [
    {
     "name": "stderr",
     "output_type": "stream",
     "text": [
      "C:\\Users\\LENOVO\\anaconda3\\lib\\site-packages\\sklearn\\utils\\deprecation.py:87: FutureWarning: Function plot_roc_curve is deprecated; Function :func:`plot_roc_curve` is deprecated in 1.0 and will be removed in 1.2. Use one of the class methods: :meth:`sklearn.metric.RocCurveDisplay.from_predictions` or :meth:`sklearn.metric.RocCurveDisplay.from_estimator`.\n",
      "  warnings.warn(msg, category=FutureWarning)\n"
     ]
    },
    {
     "data": {
      "text/plain": [
       "[<matplotlib.lines.Line2D at 0x14ee6b9ca30>]"
      ]
     },
     "execution_count": 108,
     "metadata": {},
     "output_type": "execute_result"
    },
    {
     "data": {
      "image/png": "[encoded data removed]",
      "text/plain": [
       "<Figure size 432x288 with 1 Axes>"
      ]
     },
     "metadata": {
      "needs_background": "light"
     },
     "output_type": "display_data"
    }
   ],
   "source": [
    "plot_roc_curve(neig_clf,xtest,ytest, color = 'Blue')\n",
    "plt.plot([0,1],[0,1])"
   ]
  },
  {
   "cell_type": "markdown",
   "id": "87429347",
   "metadata": {},
   "source": [
    "# Clasifier Tuning"
   ]
  },
  {
   "cell_type": "code",
   "execution_count": 109,
   "id": "86b884e6",
   "metadata": {},
   "outputs": [],
   "source": [
    "randos_clf = RandomizedSearchCV(estimator=neig_clf, param_distributions=grids, n_iter=200, cv=3)"
   ]
  },
  {
   "cell_type": "code",
   "execution_count": 110,
   "id": "d3466525",
   "metadata": {},
   "outputs": [
    {
     "data": {
      "text/plain": [
       "RandomizedSearchCV(cv=3, estimator=KNeighborsClassifier(), n_iter=200,\n",
       "                   param_distributions={'algorithm': ['auto', 'ball_tree',\n",
       "                                                      'kd_tree', 'brute'],\n",
       "                                        'leaf_size': array([11, 21, 17, 10,  8, 35, 32, 11, 22,  1,  5, 10,  1, 26, 21,  2,  3,\n",
       "       20,  6, 24,  3, 25, 49, 31, 10, 30, 49, 33,  3, 29,  8, 10]),\n",
       "                                        'metric': ['minkowski'],\n",
       "                                        'n_neighbors': array([8, 6, 1, 8, 4, 1, 9, 8]),\n",
       "                                        'p': [1, 2, 3],\n",
       "                                        'weights': ['uniform', 'distance']})"
      ]
     },
     "execution_count": 110,
     "metadata": {},
     "output_type": "execute_result"
    }
   ],
   "source": [
    "randos_clf"
   ]
  },
  {
   "cell_type": "code",
   "execution_count": 111,
   "id": "fbb98d1c",
   "metadata": {},
   "outputs": [
    {
     "data": {
      "text/plain": [
       "RandomizedSearchCV(cv=3, estimator=KNeighborsClassifier(), n_iter=200,\n",
       "                   param_distributions={'algorithm': ['auto', 'ball_tree',\n",
       "                                                      'kd_tree', 'brute'],\n",
       "                                        'leaf_size': array([11, 21, 17, 10,  8, 35, 32, 11, 22,  1,  5, 10,  1, 26, 21,  2,  3,\n",
       "       20,  6, 24,  3, 25, 49, 31, 10, 30, 49, 33,  3, 29,  8, 10]),\n",
       "                                        'metric': ['minkowski'],\n",
       "                                        'n_neighbors': array([8, 6, 1, 8, 4, 1, 9, 8]),\n",
       "                                        'p': [1, 2, 3],\n",
       "                                        'weights': ['uniform', 'distance']})"
      ]
     },
     "execution_count": 111,
     "metadata": {},
     "output_type": "execute_result"
    }
   ],
   "source": [
    "randos_clf.fit(xtrain,ytrain)"
   ]
  },
  {
   "cell_type": "code",
   "execution_count": 112,
   "id": "c725d992",
   "metadata": {},
   "outputs": [
    {
     "data": {
      "text/plain": [
       "{'weights': 'uniform',\n",
       " 'p': 3,\n",
       " 'n_neighbors': 8,\n",
       " 'metric': 'minkowski',\n",
       " 'leaf_size': 21,\n",
       " 'algorithm': 'kd_tree'}"
      ]
     },
     "execution_count": 112,
     "metadata": {},
     "output_type": "execute_result"
    }
   ],
   "source": [
    "randos_clf.best_params_"
   ]
  },
  {
   "cell_type": "code",
   "execution_count": 113,
   "id": "15af8e49",
   "metadata": {},
   "outputs": [
    {
     "data": {
      "text/plain": [
       "0.9111556446225785"
      ]
     },
     "execution_count": 113,
     "metadata": {},
     "output_type": "execute_result"
    }
   ],
   "source": [
    "randos_clf.best_score_"
   ]
  },
  {
   "cell_type": "code",
   "execution_count": 114,
   "id": "5f075a51",
   "metadata": {},
   "outputs": [],
   "source": [
    "ran_clf = randos_clf.best_estimator_"
   ]
  },
  {
   "cell_type": "code",
   "execution_count": 115,
   "id": "696ee7ee",
   "metadata": {},
   "outputs": [
    {
     "data": {
      "text/plain": [
       "KNeighborsClassifier(algorithm='kd_tree', leaf_size=21, n_neighbors=8, p=3)"
      ]
     },
     "execution_count": 115,
     "metadata": {},
     "output_type": "execute_result"
    }
   ],
   "source": [
    "ran_clf.fit(xtrain,ytrain)"
   ]
  },
  {
   "cell_type": "code",
   "execution_count": 116,
   "id": "756d9cad",
   "metadata": {},
   "outputs": [],
   "source": [
    "neig_clf_predict_tun = ran_clf.predict(xtest)"
   ]
  },
  {
   "cell_type": "code",
   "execution_count": 117,
   "id": "adea3c84",
   "metadata": {},
   "outputs": [
    {
     "data": {
      "text/plain": [
       "array([0, 1, 1, ..., 0, 1, 0])"
      ]
     },
     "execution_count": 117,
     "metadata": {},
     "output_type": "execute_result"
    }
   ],
   "source": [
    "neig_clf_predict_tun"
   ]
  },
  {
   "cell_type": "code",
   "execution_count": 118,
   "id": "e92d703f",
   "metadata": {},
   "outputs": [
    {
     "name": "stdout",
     "output_type": "stream",
     "text": [
      "              precision    recall  f1-score   support\n",
      "\n",
      "           0       0.90      0.91      0.90      1066\n",
      "           1       0.93      0.93      0.93      1501\n",
      "\n",
      "    accuracy                           0.92      2567\n",
      "   macro avg       0.92      0.92      0.92      2567\n",
      "weighted avg       0.92      0.92      0.92      2567\n",
      "\n"
     ]
    }
   ],
   "source": [
    "print(classification_report(ytest,neig_clf_predict_tun))"
   ]
  },
  {
   "cell_type": "code",
   "execution_count": 119,
   "id": "aecbed8f",
   "metadata": {},
   "outputs": [
    {
     "data": {
      "text/plain": [
       "array([[ 967,   99],\n",
       "       [ 110, 1391]], dtype=int64)"
      ]
     },
     "execution_count": 119,
     "metadata": {},
     "output_type": "execute_result"
    }
   ],
   "source": [
    "confusion_matrix(ytest,neig_clf_predict_tun)"
   ]
  },
  {
   "cell_type": "code",
   "execution_count": 120,
   "id": "9146dcc0",
   "metadata": {},
   "outputs": [
    {
     "data": {
      "text/plain": [
       "0.9185820023373588"
      ]
     },
     "execution_count": 120,
     "metadata": {},
     "output_type": "execute_result"
    }
   ],
   "source": [
    "accuracy_score(ytest,neig_clf_predict_tun)"
   ]
  },
  {
   "cell_type": "code",
   "execution_count": 121,
   "id": "2170c104",
   "metadata": {},
   "outputs": [
    {
     "name": "stderr",
     "output_type": "stream",
     "text": [
      "C:\\Users\\LENOVO\\anaconda3\\lib\\site-packages\\sklearn\\utils\\deprecation.py:87: FutureWarning: Function plot_roc_curve is deprecated; Function :func:`plot_roc_curve` is deprecated in 1.0 and will be removed in 1.2. Use one of the class methods: :meth:`sklearn.metric.RocCurveDisplay.from_predictions` or :meth:`sklearn.metric.RocCurveDisplay.from_estimator`.\n",
      "  warnings.warn(msg, category=FutureWarning)\n"
     ]
    },
    {
     "data": {
      "text/plain": [
       "[<matplotlib.lines.Line2D at 0x14ee76a2340>]"
      ]
     },
     "execution_count": 121,
     "metadata": {},
     "output_type": "execute_result"
    },
    {
     "data": {
      "image/png": "[encoded data removed]",
      "text/plain": [
       "<Figure size 432x288 with 1 Axes>"
      ]
     },
     "metadata": {
      "needs_background": "light"
     },
     "output_type": "display_data"
    }
   ],
   "source": [
    "plot_roc_curve(ran_clf,xtest,ytest, color = 'Blue')\n",
    "plt.plot([0,1],[0,1])"
   ]
  },
  {
   "cell_type": "code",
   "execution_count": null,
   "id": "0633efef",
   "metadata": {},
   "outputs": [],
   "source": []
  }
 ],
 "metadata": {
  "kernelspec": {
   "display_name": "Python 3 (ipykernel)",
   "language": "python",
   "name": "python3"
  },
  "language_info": {
   "codemirror_mode": {
    "name": "ipython",
    "version": 3
   },
   "file_extension": ".py",
   "mimetype": "text/x-python",
   "name": "python",
   "nbconvert_exporter": "python",
   "pygments_lexer": "ipython3",
   "version": "3.9.12"
  }
 },
 "nbformat": 4,
 "nbformat_minor": 5
}
